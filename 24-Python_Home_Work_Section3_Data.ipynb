{
 "cells": [
  {
   "cell_type": "code",
   "execution_count": 74,
   "metadata": {
    "collapsed": true
   },
   "outputs": [],
   "source": [
    "#Data \n",
    "revenue = [14574.49, 7606.46, 8611.41, 9175.41, 8058.65, 8105.44, 11496.28, 9766.09, 10305.32, 14379.96, 10713.97, 15433.50]\n",
    "expenses = [12051.82, 5695.07, 12319.20, 12089.72, 8658.57, 840.20, 3285.73, 5821.12, 6976.93, 16618.61, 10054.37, 3803.96]"
   ]
  },
  {
   "cell_type": "code",
   "execution_count": 75,
   "metadata": {},
   "outputs": [],
   "source": [
    "months = [\"January\", \"February\", \"March\", \"April\", \"May\", \"June\", \"July\", \"August\", \"September\", \"October\", \"November\", \"December\"]"
   ]
  },
  {
   "cell_type": "code",
   "execution_count": 76,
   "metadata": {},
   "outputs": [
    {
     "name": "stdout",
     "output_type": "stream",
     "text": [
      "[2522.67, 1911.39, -3707.79, -2914.31, -599.92, 7265.24, 8210.55, 3944.97, 3328.39, -2238.65, 659.6, 11629.54]\n"
     ]
    }
   ],
   "source": [
    "### Profit for each month\n",
    "profit = []\n",
    "for idxMonth, month in enumerate(months, 0):\n",
    "    profit.append(round(revenue[idxMonth] - expenses[idxMonth], 2))\n",
    "print(profit)"
   ]
  },
  {
   "cell_type": "code",
   "execution_count": 77,
   "metadata": {},
   "outputs": [
    {
     "name": "stdout",
     "output_type": "stream",
     "text": [
      "[1765.87, 1337.97, -2595.45, -2040.02, -419.94, 5085.67, 5747.38, 2761.48, 2329.87, -1567.06, 461.72, 8140.68]\n"
     ]
    }
   ],
   "source": [
    "### Profits after taxation which is %30\n",
    "profitAfterTax = []\n",
    "for itr in range(0,12,1):\n",
    "    profitAfterTax.append(round((profit[itr]* 0.7),2))\n",
    "print(profitAfterTax)"
   ]
  },
  {
   "cell_type": "code",
   "execution_count": 78,
   "metadata": {},
   "outputs": [
    {
     "name": "stdout",
     "output_type": "stream",
     "text": [
      "['%12.00', '%18.00', '%-30.00', '%-22.00', '%-5.00', '%63.00', '%50.00', '%28.00', '%23.00', '%-11.00', '%4.00', '%53.00']\n"
     ]
    }
   ],
   "source": [
    "### Profit Margin After Tax\n",
    "# profitMarginAfterTax = [ round((profitAfterTax[itr] / revenue[itr]), 2) for itr in range(0,12,1)] # To get the ratio value.\n",
    "profitMarginAfterTax = [ f\"%{round((profitAfterTax[itr] / revenue[itr]), 2)*100:.2f}\" for itr in range(0,12,1)] # To get it percentage wise.\n",
    "print(profitMarginAfterTax)"
   ]
  },
  {
   "cell_type": "code",
   "execution_count": 79,
   "metadata": {},
   "outputs": [
    {
     "name": "stdout",
     "output_type": "stream",
     "text": [
      "Year profit mean: 1750.68\n",
      "Good months: ['January', 'June', 'July', 'August', 'September', 'December']\n",
      "Bad months: ['February', 'March', 'April', 'May', 'October', 'November']\n"
     ]
    }
   ],
   "source": [
    "### Good Months and Bad months\n",
    "yearMean = 0\n",
    "\n",
    "for itr in range(0,12,1):\n",
    "    yearMean += profitAfterTax[itr]\n",
    "yearMean = round(yearMean/12, 2) \n",
    "print(\"Year profit mean:\", yearMean)\n",
    "\n",
    "goodMonths = []\n",
    "badMonths = []\n",
    "for monthIdx, month in enumerate(months,0):\n",
    "    if profitAfterTax[monthIdx] >= yearMean:\n",
    "        goodMonths.append(month)\n",
    "    else: badMonths.append(month)\n",
    "\n",
    "print(f\"Good months: {goodMonths}\")\n",
    "print(f\"Bad months: {badMonths}\")\n"
   ]
  },
  {
   "cell_type": "code",
   "execution_count": 80,
   "metadata": {},
   "outputs": [
    {
     "name": "stdout",
     "output_type": "stream",
     "text": [
      "The Best month December profit: 8140.68\n",
      "The Worst month March profit: -2595.45\n"
     ]
    }
   ],
   "source": [
    "### Best and worst month \n",
    "\n",
    "print(f\"The Best month {months[profitAfterTax.index(max(profitAfterTax))]} profit: {max(profitAfterTax)}\")\n",
    "print(f\"The Worst month {months[profitAfterTax.index(min(profitAfterTax))]} profit: {min(profitAfterTax)}\")"
   ]
  }
 ],
 "metadata": {
  "kernelspec": {
   "display_name": "Python 3",
   "language": "python",
   "name": "python3"
  },
  "language_info": {
   "codemirror_mode": {
    "name": "ipython",
    "version": 3
   },
   "file_extension": ".py",
   "mimetype": "text/x-python",
   "name": "python",
   "nbconvert_exporter": "python",
   "pygments_lexer": "ipython3",
   "version": "3.10.7"
  }
 },
 "nbformat": 4,
 "nbformat_minor": 1
}
